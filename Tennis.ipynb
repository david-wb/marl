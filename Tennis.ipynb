{
 "cells": [
  {
   "cell_type": "markdown",
   "metadata": {},
   "source": [
    "# Multi-Agent DDPG\n",
    "\n",
    "### Start the Environment\n",
    "\n",
    "We begin by importing the necessary packages.  If the code cell below returns an error, please revisit the project instructions to double-check that you have installed [Unity ML-Agents](https://github.com/Unity-Technologies/ml-agents/blob/master/docs/Installation.md) and [NumPy](http://www.numpy.org/)."
   ]
  },
  {
   "cell_type": "code",
   "execution_count": 1,
   "metadata": {},
   "outputs": [],
   "source": [
    "from unityagents import UnityEnvironment\n",
    "import numpy as np"
   ]
  },
  {
   "cell_type": "markdown",
   "metadata": {},
   "source": [
    "Next, we will start the environment!  **_Before running the code cell below_**, change the `file_name` parameter to match the location of the Unity environment that you downloaded.\n",
    "\n",
    "- **Mac**: `\"path/to/Tennis.app\"`\n",
    "- **Windows** (x86): `\"path/to/Tennis_Windows_x86/Tennis.exe\"`\n",
    "- **Windows** (x86_64): `\"path/to/Tennis_Windows_x86_64/Tennis.exe\"`\n",
    "- **Linux** (x86): `\"path/to/Tennis_Linux/Tennis.x86\"`\n",
    "- **Linux** (x86_64): `\"path/to/Tennis_Linux/Tennis.x86_64\"`\n",
    "- **Linux** (x86, headless): `\"path/to/Tennis_Linux_NoVis/Tennis.x86\"`\n",
    "- **Linux** (x86_64, headless): `\"path/to/Tennis_Linux_NoVis/Tennis.x86_64\"`\n",
    "\n",
    "For instance, if you are using a Mac, then you downloaded `Tennis.app`.  If this file is in the same folder as the notebook, then the line below should appear as follows:\n",
    "```\n",
    "env = UnityEnvironment(file_name=\"Tennis.app\")\n",
    "```"
   ]
  },
  {
   "cell_type": "code",
   "execution_count": 2,
   "metadata": {},
   "outputs": [
    {
     "name": "stderr",
     "output_type": "stream",
     "text": [
      "INFO:unityagents:\n",
      "'Academy' started successfully!\n",
      "Unity Academy name: Academy\n",
      "        Number of Brains: 1\n",
      "        Number of External Brains : 1\n",
      "        Lesson number : 0\n",
      "        Reset Parameters :\n",
      "\t\t\n",
      "Unity brain name: TennisBrain\n",
      "        Number of Visual Observations (per agent): 0\n",
      "        Vector Observation space type: continuous\n",
      "        Vector Observation space size (per agent): 8\n",
      "        Number of stacked Vector Observation: 3\n",
      "        Vector Action space type: continuous\n",
      "        Vector Action space size (per agent): 2\n",
      "        Vector Action descriptions: , \n"
     ]
    }
   ],
   "source": [
    "env = UnityEnvironment(file_name=\"./Tennis_Linux/Tennis.x86_64\")"
   ]
  },
  {
   "cell_type": "markdown",
   "metadata": {},
   "source": [
    "Environments contain **_brains_** which are responsible for deciding the actions of their associated agents. Here we check for the first brain available, and set it as the default brain we will be controlling from Python."
   ]
  },
  {
   "cell_type": "code",
   "execution_count": 3,
   "metadata": {},
   "outputs": [],
   "source": [
    "# get the default brain\n",
    "brain_name = env.brain_names[0]\n",
    "brain = env.brains[brain_name]"
   ]
  },
  {
   "cell_type": "markdown",
   "metadata": {},
   "source": [
    "### Examine the State and Action Spaces\n",
    "\n",
    "In this environment, two agents control rackets to bounce a ball over a net. If an agent hits the ball over the net, it receives a reward of +0.1.  If an agent lets a ball hit the ground or hits the ball out of bounds, it receives a reward of -0.01.  Thus, the goal of each agent is to keep the ball in play.\n",
    "\n",
    "The observation space consists of 8 variables corresponding to the position and velocity of the ball and racket. Two continuous actions are available, corresponding to movement toward (or away from) the net, and jumping. \n",
    "\n",
    "Run the code cell below to print some information about the environment."
   ]
  },
  {
   "cell_type": "code",
   "execution_count": 4,
   "metadata": {},
   "outputs": [
    {
     "name": "stdout",
     "output_type": "stream",
     "text": [
      "Number of agents: 2\n",
      "Size of each action: 2\n",
      "There are 2 agents. Each observes a state with length: 24\n",
      "The state for the first agent looks like: [ 0.          0.          0.          0.          0.          0.\n",
      "  0.          0.          0.          0.          0.          0.\n",
      "  0.          0.          0.          0.         -6.65278625 -1.5\n",
      " -0.          0.          6.83172083  6.         -0.          0.        ]\n"
     ]
    }
   ],
   "source": [
    "# reset the environment\n",
    "env_info = env.reset(train_mode=True)[brain_name]\n",
    "\n",
    "# number of agents \n",
    "num_agents = len(env_info.agents)\n",
    "print('Number of agents:', num_agents)\n",
    "\n",
    "# size of each action\n",
    "action_size = brain.vector_action_space_size\n",
    "print('Size of each action:', action_size)\n",
    "\n",
    "# examine the state space \n",
    "states = env_info.vector_observations\n",
    "state_size = states.shape[1]\n",
    "print('There are {} agents. Each observes a state with length: {}'.format(states.shape[0], state_size))\n",
    "print('The state for the first agent looks like:', states[0])"
   ]
  },
  {
   "cell_type": "markdown",
   "metadata": {},
   "source": [
    "### Train a MADDPG agent\n",
    "\n",
    "\n",
    "Now it's your turn to train your own agent to solve the environment!  When training the environment, set `train_mode=True`, so that the line for resetting the environment looks like the following:\n",
    "```python\n",
    "env_info = env.reset(train_mode=True)[brain_name]\n",
    "```"
   ]
  },
  {
   "cell_type": "code",
   "execution_count": 5,
   "metadata": {},
   "outputs": [],
   "source": [
    "from maddpg import MADDPG\n",
    "from collections import deque\n",
    "import torch\n",
    "agent = MADDPG(24, 2, 0)"
   ]
  },
  {
   "cell_type": "code",
   "execution_count": 6,
   "metadata": {},
   "outputs": [
    {
     "data": {
      "text/plain": [
       "(2, 24)"
      ]
     },
     "execution_count": 6,
     "metadata": {},
     "output_type": "execute_result"
    }
   ],
   "source": [
    "env_info = env.reset(train_mode=True)[brain_name]\n",
    "env_info.vector_observations.shape"
   ]
  },
  {
   "cell_type": "code",
   "execution_count": null,
   "metadata": {},
   "outputs": [
    {
     "name": "stdout",
     "output_type": "stream",
     "text": [
      "Episode 10\tScore: 0.10\tAverage Score: 0.01\n",
      "Episode 20\tScore: 0.00\tAverage Score: 0.01\n",
      "Episode 30\tScore: 0.00\tAverage Score: 0.00\n",
      "Episode 40\tScore: 0.00\tAverage Score: 0.00\n",
      "Episode 50\tScore: 0.00\tAverage Score: 0.00\n",
      "Episode 60\tScore: 0.00\tAverage Score: 0.00\n",
      "Episode 70\tScore: 0.00\tAverage Score: 0.00\n",
      "Episode 80\tScore: 0.00\tAverage Score: 0.00\n",
      "Episode 90\tScore: 0.00\tAverage Score: 0.00\n",
      "Episode 100\tScore: 0.00\tAverage Score: 0.00\n",
      "Episode 110\tScore: 0.00\tAverage Score: 0.00\n",
      "Episode 120\tScore: 0.00\tAverage Score: 0.00\n",
      "Episode 130\tScore: 0.00\tAverage Score: 0.00\n",
      "Episode 140\tScore: 0.00\tAverage Score: 0.00\n",
      "Episode 150\tScore: 0.00\tAverage Score: 0.00\n",
      "Episode 160\tScore: 0.00\tAverage Score: 0.00\n",
      "Episode 170\tScore: 0.00\tAverage Score: 0.00\n",
      "Episode 180\tScore: 0.00\tAverage Score: 0.00\n",
      "Episode 190\tScore: 0.00\tAverage Score: 0.00\n",
      "Episode 200\tScore: 0.00\tAverage Score: 0.00\n",
      "Episode 210\tScore: 0.00\tAverage Score: 0.00\n",
      "Episode 220\tScore: 0.00\tAverage Score: 0.00\n",
      "Episode 230\tScore: 0.00\tAverage Score: 0.00\n",
      "Episode 240\tScore: 0.00\tAverage Score: 0.00\n",
      "Episode 250\tScore: 0.00\tAverage Score: 0.00\n",
      "Episode 260\tScore: 0.00\tAverage Score: 0.00\n",
      "Episode 270\tScore: 0.00\tAverage Score: 0.00\n",
      "Episode 280\tScore: 0.00\tAverage Score: 0.00\n",
      "Episode 290\tScore: 0.00\tAverage Score: 0.00\n",
      "Episode 300\tScore: 0.00\tAverage Score: 0.00\n",
      "Episode 310\tScore: 0.00\tAverage Score: 0.00\n",
      "Episode 320\tScore: 0.00\tAverage Score: 0.00\n",
      "Episode 330\tScore: 0.00\tAverage Score: 0.00\n",
      "Episode 340\tScore: 0.10\tAverage Score: 0.00\n",
      "Episode 350\tScore: 0.00\tAverage Score: 0.00\n",
      "Episode 360\tScore: 0.00\tAverage Score: 0.00\n",
      "Episode 370\tScore: 0.00\tAverage Score: 0.00\n",
      "Episode 380\tScore: 0.00\tAverage Score: 0.00\n",
      "Episode 390\tScore: 0.00\tAverage Score: 0.00\n",
      "Episode 400\tScore: 0.00\tAverage Score: 0.00\n",
      "Episode 410\tScore: 0.00\tAverage Score: 0.00\n",
      "Episode 420\tScore: 0.00\tAverage Score: 0.00\n",
      "Episode 430\tScore: 0.00\tAverage Score: 0.00\n",
      "Episode 440\tScore: 0.10\tAverage Score: 0.01\n",
      "Episode 450\tScore: 0.00\tAverage Score: 0.01\n",
      "Episode 460\tScore: 0.20\tAverage Score: 0.02\n",
      "Episode 470\tScore: 0.00\tAverage Score: 0.03\n",
      "Episode 480\tScore: 0.20\tAverage Score: 0.04\n",
      "Episode 490\tScore: 0.20\tAverage Score: 0.05\n",
      "Episode 500\tScore: 0.10\tAverage Score: 0.06\n",
      "Episode 510\tScore: 0.00\tAverage Score: 0.06\n",
      "Episode 520\tScore: 0.20\tAverage Score: 0.07\n",
      "Episode 530\tScore: 0.10\tAverage Score: 0.08\n",
      "Episode 540\tScore: 0.10\tAverage Score: 0.09\n",
      "Episode 550\tScore: 0.00\tAverage Score: 0.09\n",
      "Episode 560\tScore: 0.20\tAverage Score: 0.08\n",
      "Episode 570\tScore: 0.00\tAverage Score: 0.08\n",
      "Episode 580\tScore: 0.00\tAverage Score: 0.07\n",
      "Episode 590\tScore: 0.20\tAverage Score: 0.07\n",
      "Episode 600\tScore: 0.10\tAverage Score: 0.07\n",
      "Episode 610\tScore: 0.00\tAverage Score: 0.07\n",
      "Episode 620\tScore: 0.00\tAverage Score: 0.07\n",
      "Episode 630\tScore: 0.10\tAverage Score: 0.06\n",
      "Episode 640\tScore: 0.10\tAverage Score: 0.05\n",
      "Episode 650\tScore: 0.10\tAverage Score: 0.04\n",
      "Episode 660\tScore: 0.00\tAverage Score: 0.04\n",
      "Episode 670\tScore: 0.10\tAverage Score: 0.05\n",
      "Episode 680\tScore: 0.10\tAverage Score: 0.06\n",
      "Episode 690\tScore: 0.10\tAverage Score: 0.06\n",
      "Episode 700\tScore: 0.00\tAverage Score: 0.06\n",
      "Episode 710\tScore: 0.00\tAverage Score: 0.06\n",
      "Episode 720\tScore: 0.10\tAverage Score: 0.07\n",
      "Episode 730\tScore: 1.20\tAverage Score: 0.08\n",
      "Episode 740\tScore: 0.00\tAverage Score: 0.09\n",
      "Episode 750\tScore: 0.10\tAverage Score: 0.10\n",
      "Episode 760\tScore: 0.10\tAverage Score: 0.11\n",
      "Episode 770\tScore: 0.00\tAverage Score: 0.11\n",
      "Episode 780\tScore: 0.20\tAverage Score: 0.12\n",
      "Episode 790\tScore: 0.30\tAverage Score: 0.12\n",
      "Episode 800\tScore: 0.20\tAverage Score: 0.12\n",
      "Episode 810\tScore: 0.10\tAverage Score: 0.13\n",
      "Episode 820\tScore: 0.10\tAverage Score: 0.13\n",
      "Episode 830\tScore: 0.20\tAverage Score: 0.12\n",
      "Episode 840\tScore: 0.20\tAverage Score: 0.13\n",
      "Episode 850\tScore: 0.20\tAverage Score: 0.13\n",
      "Episode 860\tScore: 0.20\tAverage Score: 0.13\n",
      "Episode 870\tScore: 0.20\tAverage Score: 0.14\n",
      "Episode 880\tScore: 0.10\tAverage Score: 0.14\n",
      "Episode 890\tScore: 0.20\tAverage Score: 0.14\n",
      "Episode 900\tScore: 0.10\tAverage Score: 0.15\n",
      "Episode 910\tScore: 0.20\tAverage Score: 0.15\n",
      "Episode 920\tScore: 0.10\tAverage Score: 0.15\n",
      "Episode 930\tScore: 0.10\tAverage Score: 0.15\n",
      "Episode 940\tScore: 0.10\tAverage Score: 0.14\n",
      "Episode 950\tScore: 0.10\tAverage Score: 0.13\n",
      "Episode 960\tScore: 0.10\tAverage Score: 0.13\n",
      "Episode 970\tScore: 0.10\tAverage Score: 0.12\n",
      "Episode 980\tScore: 0.10\tAverage Score: 0.12\n",
      "Episode 990\tScore: 0.10\tAverage Score: 0.12\n",
      "Episode 1000\tScore: 0.10\tAverage Score: 0.12\n",
      "Episode 1010\tScore: 0.10\tAverage Score: 0.11\n",
      "Episode 1020\tScore: 0.10\tAverage Score: 0.11\n",
      "Episode 1030\tScore: 0.10\tAverage Score: 0.11\n",
      "Episode 1040\tScore: 0.20\tAverage Score: 0.12\n",
      "Episode 1050\tScore: 0.10\tAverage Score: 0.12\n",
      "Episode 1060\tScore: 0.30\tAverage Score: 0.12\n",
      "Episode 1070\tScore: 0.10\tAverage Score: 0.12\n",
      "Episode 1080\tScore: 0.10\tAverage Score: 0.12\n",
      "Episode 1090\tScore: 0.30\tAverage Score: 0.11\n",
      "Episode 1100\tScore: 0.10\tAverage Score: 0.11\n",
      "Episode 1110\tScore: 0.30\tAverage Score: 0.12\n",
      "Episode 1120\tScore: 0.10\tAverage Score: 0.12\n",
      "Episode 1130\tScore: 0.10\tAverage Score: 0.12\n",
      "Episode 1140\tScore: 0.60\tAverage Score: 0.13\n",
      "Episode 1150\tScore: 0.20\tAverage Score: 0.14\n",
      "Episode 1160\tScore: 0.20\tAverage Score: 0.15\n"
     ]
    }
   ],
   "source": [
    "def maddpg(max_episodes=2000, print_every=10):\n",
    "    scores_deque = deque(maxlen=100)\n",
    "    scores = []\n",
    "    for i_episode in range(1, max_episodes+1):\n",
    "        env_info = env.reset(train_mode=True)[brain_name]\n",
    "        states = env_info.vector_observations\n",
    "        agent.reset()\n",
    "        score = 0\n",
    "        while True:\n",
    "            actions = agent.act(states)\n",
    "            env_info = env.step(actions)[brain_name]\n",
    "            next_states = env_info.vector_observations\n",
    "            rewards = env_info.rewards\n",
    "            dones = env_info.local_done\n",
    "            agent.step(states, actions, rewards, next_states, dones)\n",
    "            states = next_states\n",
    "            score += np.max(rewards)\n",
    "            if any(dones):\n",
    "                break \n",
    "                \n",
    "        \n",
    "        scores_deque.append(score)\n",
    "        scores.append(score)\n",
    "        torch.save(agent.actor_local.state_dict(), 'checkpoint_actor.pth')\n",
    "        torch.save(agent.critic_local.state_dict(), 'checkpoint_critic.pth')\n",
    "        \n",
    "        if i_episode % print_every == 0:\n",
    "            print('\\rEpisode {}\\tScore: {:.2f}\\tAverage Score: {:.2f}'.format(i_episode, scores[-1], np.mean(scores_deque)))\n",
    "\n",
    "        if len(scores_deque) == 100 and np.mean(scores_deque) >= 1.0:\n",
    "            if i_episode % print_every != 0:\n",
    "                print('\\rEpisode {}\\tScore: {:.2f}\\tAverage Score: {:.2f}'.format(i_episode, scores[-1], np.mean(scores_deque)))\n",
    "            print('Done! Yay!')\n",
    "            break\n",
    "\n",
    "    return scores\n",
    "\n",
    "scores = maddpg()"
   ]
  },
  {
   "cell_type": "markdown",
   "metadata": {},
   "source": [
    "### Plot the Training Scores"
   ]
  },
  {
   "cell_type": "code",
   "execution_count": null,
   "metadata": {},
   "outputs": [],
   "source": [
    "import matplotlib.pyplot as plt\n",
    "%matplotlib inline\n",
    "fig = plt.figure()\n",
    "ax = fig.add_subplot(111)\n",
    "plt.plot(np.arange(1, len(scores) + 1), scores)\n",
    "plt.ylabel('Score')\n",
    "plt.xlabel('Episode #')\n",
    "plt.show()\n",
    "fig.savefig('scores.png')"
   ]
  },
  {
   "cell_type": "markdown",
   "metadata": {},
   "source": [
    "### Watch the Trained Agents Play"
   ]
  },
  {
   "cell_type": "code",
   "execution_count": null,
   "metadata": {},
   "outputs": [],
   "source": [
    "def watch_trained_agent():\n",
    "    env_info = env.reset(train_mode=False)[brain_name]\n",
    "    states = env_info.vector_observations\n",
    "    agent.reset()\n",
    "    while True:\n",
    "        actions = agent.act(states)\n",
    "        env_info = env.step(actions)[brain_name]\n",
    "        next_states = env_info.vector_observations\n",
    "        rewards = env_info.rewards\n",
    "        dones = env_info.local_done\n",
    "        states = next_states\n",
    "        if any(dones):\n",
    "            break"
   ]
  },
  {
   "cell_type": "code",
   "execution_count": null,
   "metadata": {},
   "outputs": [],
   "source": [
    "watch_trained_agent()"
   ]
  }
 ],
 "metadata": {
  "kernelspec": {
   "display_name": "Python 3",
   "language": "python",
   "name": "python3"
  },
  "language_info": {
   "codemirror_mode": {
    "name": "ipython",
    "version": 3
   },
   "file_extension": ".py",
   "mimetype": "text/x-python",
   "name": "python",
   "nbconvert_exporter": "python",
   "pygments_lexer": "ipython3",
   "version": "3.6.6"
  }
 },
 "nbformat": 4,
 "nbformat_minor": 2
}
